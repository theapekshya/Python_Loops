{
 "cells": [
  {
   "cell_type": "code",
   "execution_count": 1,
   "id": "cc982650",
   "metadata": {},
   "outputs": [
    {
     "data": {
      "text/plain": [
       "range(1, 10, 2)"
      ]
     },
     "execution_count": 1,
     "metadata": {},
     "output_type": "execute_result"
    }
   ],
   "source": [
    "# Loops = for loop and while loop\n",
    "\n",
    "range(5)       # 0,1,2,3,4    for(i=0;i<5;i++)\n",
    "range(1,5)     #1,2,3,4       for(i=1;i<5;i++)\n",
    "range(1,10,2)  # 1,3,5,7,9    \n"
   ]
  },
  {
   "cell_type": "code",
   "execution_count": 2,
   "id": "add190b5",
   "metadata": {},
   "outputs": [
    {
     "name": "stdout",
     "output_type": "stream",
     "text": [
      "0 1 2 3 4 "
     ]
    }
   ],
   "source": [
    "for i in range(5):\n",
    "   # print(i)\n",
    "    print(i,end=' ')  # end = to print in horizontal line "
   ]
  },
  {
   "cell_type": "code",
   "execution_count": 3,
   "id": "befee1c5",
   "metadata": {},
   "outputs": [
    {
     "name": "stdout",
     "output_type": "stream",
     "text": [
      "1 2 3 4 "
     ]
    }
   ],
   "source": [
    "for i in range(1,5):\n",
    "    print(i,end=' ') "
   ]
  },
  {
   "cell_type": "code",
   "execution_count": 4,
   "id": "c52de7a4",
   "metadata": {},
   "outputs": [
    {
     "name": "stdout",
     "output_type": "stream",
     "text": [
      "1 3 5 7 9 "
     ]
    }
   ],
   "source": [
    "for i in range(1,10,2):\n",
    "    print(i,end=' ') "
   ]
  },
  {
   "cell_type": "code",
   "execution_count": 5,
   "id": "6dfa3f3e",
   "metadata": {},
   "outputs": [
    {
     "name": "stdout",
     "output_type": "stream",
     "text": [
      "5 4 3 2 1 0 "
     ]
    }
   ],
   "source": [
    "for i in range(5,-1,-1):   #  5,-1,-1 = from 5 t0 0 at gap 1\n",
    "    print(i,end=' ') "
   ]
  },
  {
   "cell_type": "code",
   "execution_count": 6,
   "id": "c9c5734d",
   "metadata": {},
   "outputs": [
    {
     "name": "stdout",
     "output_type": "stream",
     "text": [
      "Enter n = 2\n",
      "2 * 1 = 2\n",
      "2 * 2 = 4\n",
      "2 * 3 = 6\n",
      "2 * 4 = 8\n",
      "2 * 5 = 10\n",
      "2 * 6 = 12\n",
      "2 * 7 = 14\n",
      "2 * 8 = 16\n",
      "2 * 9 = 18\n",
      "2 * 10 = 20\n"
     ]
    }
   ],
   "source": [
    "a = int(input('Enter n = '))   # a =n\n",
    "for i in range(1,11):          # i = 1 to 10\n",
    "    print(a,'*',i,'=',a*i)     # multiply"
   ]
  },
  {
   "cell_type": "code",
   "execution_count": 7,
   "id": "b729fd0e",
   "metadata": {},
   "outputs": [
    {
     "name": "stdout",
     "output_type": "stream",
     "text": [
      "Enter n=2\n",
      "Enter x=3\n",
      "Enter x=3\n",
      "6\n"
     ]
    }
   ],
   "source": [
    "a = 0\n",
    "b = int(input('Enter n='))\n",
    "for i in range(b):\n",
    "    x = int(input('Enter x='))\n",
    "    a = a + x\n",
    "print(a)"
   ]
  },
  {
   "cell_type": "code",
   "execution_count": 8,
   "id": "d9354887",
   "metadata": {},
   "outputs": [
    {
     "name": "stdout",
     "output_type": "stream",
     "text": [
      "Enter n=2\n",
      "Enter x=ram\n",
      "Enter x=2\n",
      "ram\n",
      "2\n",
      "\n"
     ]
    }
   ],
   "source": [
    "#a = ''  empty string\n",
    "a = str()\n",
    "b = int(input('Enter n='))\n",
    "for i in range(b):\n",
    "    x = (input('Enter x='))\n",
    "    a = a  + x + '\\n' \n",
    "print(a)"
   ]
  },
  {
   "cell_type": "code",
   "execution_count": 9,
   "id": "00b3c953",
   "metadata": {},
   "outputs": [
    {
     "name": "stdout",
     "output_type": "stream",
     "text": [
      "enter n =2\n",
      "Enter name =ram\n",
      "Enter phone =123\n",
      "Enter name =shyam\n",
      "Enter phone =456\n",
      "ram 123\n",
      "shyam 456\n",
      "\n"
     ]
    }
   ],
   "source": [
    "# a = '' empty string\n",
    "a = str()\n",
    "b = int(input('enter n ='))\n",
    "for i in range(b):\n",
    "    name = input('Enter name =')\n",
    "    phone = input('Enter phone =')\n",
    "    a = a + name + ' ' + phone + '\\n'\n",
    "print(a)"
   ]
  },
  {
   "cell_type": "code",
   "execution_count": 10,
   "id": "2aaf35cf",
   "metadata": {},
   "outputs": [
    {
     "data": {
      "text/plain": [
       "'ram 123\\nshyam 456\\n'"
      ]
     },
     "execution_count": 10,
     "metadata": {},
     "output_type": "execute_result"
    }
   ],
   "source": [
    "a"
   ]
  },
  {
   "cell_type": "code",
   "execution_count": 11,
   "id": "af2fe631",
   "metadata": {},
   "outputs": [
    {
     "name": "stdout",
     "output_type": "stream",
     "text": [
      "Enter n =2\n",
      "1\n",
      "2\n"
     ]
    }
   ],
   "source": [
    "# calculate factorial of a number\n",
    "\n",
    "fact = 1\n",
    "n = int(input('Enter n ='))\n",
    "if n>0:\n",
    "    for i in range(1,n+1):\n",
    "        fact = fact*i\n",
    "        print(fact)\n",
    "        \n",
    "elif n==0:\n",
    "        print('factorial =',1)\n",
    "    \n",
    "else:\n",
    "        print('value should be >= 1')"
   ]
  },
  {
   "cell_type": "code",
   "execution_count": 12,
   "id": "d61282ab",
   "metadata": {},
   "outputs": [
    {
     "name": "stdout",
     "output_type": "stream",
     "text": [
      "p hi\n",
      "y hi\n",
      "t hi\n",
      "h hi\n",
      "o hi\n",
      "n hi\n"
     ]
    }
   ],
   "source": [
    "# for loop in string\n",
    "\n",
    "a = 'python'\n",
    "for i in a:\n",
    "    print(i,'hi')"
   ]
  },
  {
   "cell_type": "code",
   "execution_count": 13,
   "id": "f96deecd",
   "metadata": {},
   "outputs": [
    {
     "name": "stdout",
     "output_type": "stream",
     "text": [
      "hey! there"
     ]
    }
   ],
   "source": [
    "a = 'hey! there'\n",
    "for i in a:\n",
    "    print(i,end='')"
   ]
  },
  {
   "cell_type": "code",
   "execution_count": 14,
   "id": "e81ed628",
   "metadata": {},
   "outputs": [
    {
     "name": "stdout",
     "output_type": "stream",
     "text": [
      "hey!ram"
     ]
    }
   ],
   "source": [
    "a = 'hey! ram'\n",
    "for i in a:\n",
    "    if i!='.' and i!=' ':\n",
    "        print(i,end='')"
   ]
  },
  {
   "cell_type": "code",
   "execution_count": 15,
   "id": "6ea1cffd",
   "metadata": {},
   "outputs": [],
   "source": [
    "# while loop \n",
    "# while<condition>:\n",
    "# while <operation>\n"
   ]
  },
  {
   "cell_type": "code",
   "execution_count": 16,
   "id": "763389f3",
   "metadata": {},
   "outputs": [],
   "source": [
    "#while True:\n",
    "   # print('hello')   # infinite loop"
   ]
  },
  {
   "cell_type": "code",
   "execution_count": 17,
   "id": "6c43cf0a",
   "metadata": {},
   "outputs": [
    {
     "name": "stdout",
     "output_type": "stream",
     "text": [
      "10 hello\n",
      "9 hello\n",
      "8 hello\n",
      "7 hello\n",
      "6 hello\n",
      "5 hello\n",
      "4 hello\n",
      "3 hello\n",
      "2 hello\n",
      "1 hello\n",
      "0 hello\n"
     ]
    }
   ],
   "source": [
    "a = 10\n",
    "while a>=0:\n",
    "    print(a,'hello')\n",
    "    a=a-1"
   ]
  },
  {
   "cell_type": "code",
   "execution_count": 18,
   "id": "4e807f7b",
   "metadata": {},
   "outputs": [
    {
     "name": "stdout",
     "output_type": "stream",
     "text": [
      "0 hello\n",
      "1 hello\n",
      "2 hello\n",
      "3 hello\n",
      "4 hello\n",
      "5 hello\n"
     ]
    }
   ],
   "source": [
    "a = 0\n",
    "while a<=5:\n",
    "    print(a,'hello')\n",
    "    a = a+1"
   ]
  },
  {
   "cell_type": "code",
   "execution_count": 19,
   "id": "172e7512",
   "metadata": {},
   "outputs": [
    {
     "name": "stdout",
     "output_type": "stream",
     "text": [
      "Enter n=2\n",
      "Enter x=3\n",
      "Enter x=4\n",
      "7\n"
     ]
    }
   ],
   "source": [
    "s = 0 \n",
    "i = 0                   # 0 for add/sub and 1 for mul/div \n",
    "n = int(input('Enter n='))\n",
    "while i<n:\n",
    "    x = int(input('Enter x='))\n",
    "    s =  s + x\n",
    "    i=i+1\n",
    "print(s)"
   ]
  },
  {
   "cell_type": "code",
   "execution_count": 20,
   "id": "bd9c3fee",
   "metadata": {},
   "outputs": [
    {
     "name": "stdout",
     "output_type": "stream",
     "text": [
      "Enter n=2\n",
      "Enter name =anu\n",
      "Enter phone =123\n",
      "Enter name =binu\n",
      "Enter phone =456\n",
      "anu 123\n",
      "binu 456\n",
      "\n"
     ]
    }
   ],
   "source": [
    "# s = ''  \n",
    "i = 0\n",
    "s = str()\n",
    "n = int(input('Enter n='))\n",
    "while i<n:\n",
    "    name = input('Enter name =')\n",
    "    phone = input('Enter phone =')\n",
    "    s = s + name + ' ' + phone + '\\n'\n",
    "    i=i+1\n",
    "print(s)"
   ]
  }
 ],
 "metadata": {
  "kernelspec": {
   "display_name": "Python 3 (ipykernel)",
   "language": "python",
   "name": "python3"
  },
  "language_info": {
   "codemirror_mode": {
    "name": "ipython",
    "version": 3
   },
   "file_extension": ".py",
   "mimetype": "text/x-python",
   "name": "python",
   "nbconvert_exporter": "python",
   "pygments_lexer": "ipython3",
   "version": "3.10.9"
  }
 },
 "nbformat": 4,
 "nbformat_minor": 5
}
